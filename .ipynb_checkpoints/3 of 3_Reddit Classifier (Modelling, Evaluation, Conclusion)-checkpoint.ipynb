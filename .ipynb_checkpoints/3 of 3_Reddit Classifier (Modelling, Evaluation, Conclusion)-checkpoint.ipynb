{
 "cells": [
  {
   "cell_type": "markdown",
   "metadata": {},
   "source": [
    "## 3. Preprocessing and Modelling"
   ]
  },
  {
   "cell_type": "code",
   "execution_count": 1,
   "metadata": {},
   "outputs": [],
   "source": [
    "import pandas as pd\n",
    "import numpy as np\n",
    "\n",
    "from sklearn.model_selection import train_test_split, GridSearchCV, cross_val_score, RandomizedSearchCV\n",
    "from sklearn.linear_model import LogisticRegression\n",
    "from sklearn.pipeline import Pipeline\n",
    "from sklearn.naive_bayes import MultinomialNB\n",
    "from sklearn.metrics import confusion_matrix, roc_auc_score, classification_report\n",
    "from sklearn.feature_extraction.text import CountVectorizer, TfidfVectorizer\n",
    "from sklearn.ensemble import RandomForestClassifier\n",
    "\n",
    "import matplotlib.pyplot as plt\n",
    "import seaborn as sns"
   ]
  },
  {
   "cell_type": "code",
   "execution_count": 2,
   "metadata": {},
   "outputs": [],
   "source": [
    "# import cleaned file\n",
    "\n",
    "df = pd.read_csv(\"data/reddit_df_clean.csv\")"
   ]
  },
  {
   "cell_type": "code",
   "execution_count": 3,
   "metadata": {},
   "outputs": [
    {
     "data": {
      "text/plain": [
       "text         0\n",
       "subreddit    0\n",
       "dtype: int64"
      ]
     },
     "execution_count": 3,
     "metadata": {},
     "output_type": "execute_result"
    }
   ],
   "source": [
    "# double check for null, or else it will throw an error when fitting\n",
    "df.isnull().sum()"
   ]
  },
  {
   "cell_type": "code",
   "execution_count": 4,
   "metadata": {},
   "outputs": [],
   "source": [
    "# set X and Y\n",
    "X = df['text']\n",
    "y = df['subreddit']"
   ]
  },
  {
   "cell_type": "code",
   "execution_count": 5,
   "metadata": {},
   "outputs": [],
   "source": [
    "# split into train-test set, stratified by y\n",
    "\n",
    "X_train, X_test, y_train, y_test = train_test_split(X, y, random_state=42, stratify=y,\n",
    "                                                    test_size= 0.3333)"
   ]
  },
  {
   "cell_type": "markdown",
   "metadata": {},
   "source": [
    "### Setting Baseline Score\n",
    "\n",
    "The baseline score will be the using Logistic Regression with Count Vectorisation, albeit without any parameters. The ideal models should not be performing worse than this."
   ]
  },
  {
   "cell_type": "code",
   "execution_count": 6,
   "metadata": {},
   "outputs": [],
   "source": [
    "pipe = Pipeline([\n",
    "    ('cvec', CountVectorizer()),\n",
    "    ('logreg', LogisticRegression())\n",
    "])"
   ]
  },
  {
   "cell_type": "code",
   "execution_count": 7,
   "metadata": {
    "scrolled": true
   },
   "outputs": [
    {
     "data": {
      "text/plain": [
       "0.6430646757697343"
      ]
     },
     "execution_count": 7,
     "metadata": {},
     "output_type": "execute_result"
    }
   ],
   "source": [
    "# check cross validation score to see how well it generalise to unseen data\n",
    "cross_val_score(pipe, X_train, y_train, cv=3).mean()"
   ]
  },
  {
   "cell_type": "code",
   "execution_count": 8,
   "metadata": {},
   "outputs": [
    {
     "data": {
      "text/plain": [
       "0.6098310291858678"
      ]
     },
     "execution_count": 8,
     "metadata": {},
     "output_type": "execute_result"
    }
   ],
   "source": [
    "cross_val_score(pipe, X_test, y_test, cv=3).mean()"
   ]
  },
  {
   "cell_type": "markdown",
   "metadata": {},
   "source": [
    "We can expect the model to generalise quite well to unseen data with accuracy of around 60-65%."
   ]
  },
  {
   "cell_type": "code",
   "execution_count": 9,
   "metadata": {},
   "outputs": [
    {
     "data": {
      "text/plain": [
       "Pipeline(memory=None,\n",
       "         steps=[('cvec',\n",
       "                 CountVectorizer(analyzer='word', binary=False,\n",
       "                                 decode_error='strict',\n",
       "                                 dtype=<class 'numpy.int64'>, encoding='utf-8',\n",
       "                                 input='content', lowercase=True, max_df=1.0,\n",
       "                                 max_features=None, min_df=1,\n",
       "                                 ngram_range=(1, 1), preprocessor=None,\n",
       "                                 stop_words=None, strip_accents=None,\n",
       "                                 token_pattern='(?u)\\\\b\\\\w\\\\w+\\\\b',\n",
       "                                 tokenizer=None, vocabulary=None)),\n",
       "                ('logreg',\n",
       "                 LogisticRegression(C=1.0, class_weight=None, dual=False,\n",
       "                                    fit_intercept=True, intercept_scaling=1,\n",
       "                                    l1_ratio=None, max_iter=100,\n",
       "                                    multi_class='auto', n_jobs=None,\n",
       "                                    penalty='l2', random_state=None,\n",
       "                                    solver='lbfgs', tol=0.0001, verbose=0,\n",
       "                                    warm_start=False))],\n",
       "         verbose=False)"
      ]
     },
     "execution_count": 9,
     "metadata": {},
     "output_type": "execute_result"
    }
   ],
   "source": [
    "# fit the model\n",
    "pipe.fit(X_train, y_train)"
   ]
  },
  {
   "cell_type": "markdown",
   "metadata": {},
   "source": [
    "**Establish Baseline Score**"
   ]
  },
  {
   "cell_type": "code",
   "execution_count": 10,
   "metadata": {},
   "outputs": [
    {
     "data": {
      "text/plain": [
       "0.9738461538461538"
      ]
     },
     "execution_count": 10,
     "metadata": {},
     "output_type": "execute_result"
    }
   ],
   "source": [
    "# baseline training score\n",
    "pipe.score(X_train, y_train)"
   ]
  },
  {
   "cell_type": "code",
   "execution_count": 11,
   "metadata": {},
   "outputs": [
    {
     "data": {
      "text/plain": [
       "0.6328725038402457"
      ]
     },
     "execution_count": 11,
     "metadata": {},
     "output_type": "execute_result"
    }
   ],
   "source": [
    "# baseline test score\n",
    "pipe.score(X_test, y_test)"
   ]
  },
  {
   "cell_type": "markdown",
   "metadata": {},
   "source": [
    "Based on a vanilla model of Logistic Regression with Count Vectoriser, with no parameters, the model has an accuracy of 63.29% in predicting unseen data. It is also highly overfitted with an accuracy of 97.38% on the training set. These are the baseline scores for both training and test sets. Subsequent models with hypertuning should ideally 1) give a better accuracy score and 2) give a better training score with."
   ]
  },
  {
   "cell_type": "markdown",
   "metadata": {},
   "source": [
    "## Vectorising and Modelling"
   ]
  },
  {
   "cell_type": "code",
   "execution_count": 12,
   "metadata": {},
   "outputs": [],
   "source": [
    "# create a dictionary of vectorisers and models, which the functions would use later\n",
    "vec_dict = {'cvec': CountVectorizer(),\n",
    "            'tvec' : TfidfVectorizer()}\n",
    "\n",
    "model_dict = {'logreg' : LogisticRegression(), \n",
    "            'nb': MultinomialNB(),\n",
    "             'rf':RandomForestClassifier(random_state = 42)}"
   ]
  },
  {
   "cell_type": "code",
   "execution_count": 13,
   "metadata": {},
   "outputs": [],
   "source": [
    "# perform a gridsearch function based on the vectoriser and model\n",
    "\n",
    "def gridsearchcv(vec_name, model_name):\n",
    "    '''\n",
    "    Function will do a gridsearch and return the prediction based on the best paramater.\n",
    "    It will print the best parameter.\n",
    "    It will also print the train score and test score which can be evaluated against the other models\n",
    "    '''\n",
    "    \n",
    "    # setting pipe parameters for tuning\n",
    "    if vec_name == 'cvec':\n",
    "        pipe_params = {\n",
    "        'cvec__max_features': [2000, 2500, 3000],\n",
    "        'cvec__min_df': [1, 2, 3],\n",
    "        'cvec__max_df': [1.0, .9, .95],\n",
    "        'cvec__ngram_range': [(1,1), (1,2), (1,3)]}\n",
    "        \n",
    "    elif vec_name == 'tvec':\n",
    "        pipe_params = {\n",
    "        'tvec__max_features': [2000, 2500, 3000],\n",
    "        'tvec__min_df': [1, 2, 3],\n",
    "        'tvec__max_df': [1.0 , .9, .95],\n",
    "        'tvec__ngram_range': [(1,1), (1,2), (1,3)]}\n",
    "\n",
    "    # create pipeline referencing the dictionary I created earlier         \n",
    "    pipe = Pipeline([(vec_name, vec_dict[vec_name]), (model_name, model_dict[model_name])])   \n",
    "    \n",
    "    # perform gridsearch\n",
    "    gs = GridSearchCV(pipe, param_grid=pipe_params, cv=3)\n",
    "    \n",
    "    # fit the model\n",
    "    gs.fit(X_train, y_train)\n",
    "    \n",
    "    # generate cross validation score\n",
    "    cv_score = gs.best_score_\n",
    "    \n",
    "    # generate train and test score\n",
    "    train_score = gs.score(X_train, y_train)\n",
    "    test_score = gs.score(X_test, y_test)\n",
    "    \n",
    "    # print statements and return prediction\n",
    "    print(f\"Model Cross Val Score: {cv_score}\")\n",
    "    print(f\"Train Score: {train_score}\")\n",
    "    print(f\"Test Score: {test_score}\")\n",
    "    print(gs.best_params_)\n",
    "    return gs.predict(X_test)"
   ]
  },
  {
   "cell_type": "code",
   "execution_count": 14,
   "metadata": {},
   "outputs": [],
   "source": [
    "# perform a random search function based on the vectoriser and model\n",
    "\n",
    "def randomsearchcv(vec_name, model_name):\n",
    "    '''\n",
    "    Function will do a random search for tuning and return the prediction based on the best paramater.\n",
    "    It will print the best parameter.\n",
    "    It will also print the train score and test score which can be evaluated against the other models\n",
    "    '''\n",
    "    # setting pipe parameters for tuning\n",
    "    if vec_name == 'cvec':\n",
    "        pipe_params = {\n",
    "        'cvec__max_features': [2000, 2500, 3000],\n",
    "        'cvec__min_df': [1, 2, 3],\n",
    "        'cvec__max_df': [1.0, .9, .95],\n",
    "        'cvec__ngram_range': [(1,1), (1,2), (1,3)]}\n",
    "        \n",
    "    elif vec_name == 'tvec':\n",
    "        pipe_params = {\n",
    "        'tvec__max_features': [2000, 2500, 3000],\n",
    "        'tvec__min_df': [1, 2, 3],\n",
    "        'tvec__max_df': [1.0 , .9, .95],\n",
    "        'tvec__ngram_range': [(1,1), (1,2), (1,3)]}\n",
    "\n",
    "    if model_name == 'rf':\n",
    "        pipe_params['rf__n_estimators'] = [700, 800, 900, 1000]\n",
    "        pipe_params['rf__min_samples_leaf'] = [2, 3, 4]\n",
    "        pipe_params['rf__max_depth'] = [60, 70, 80, 90, 100]\n",
    "        pipe_params['rf__min_samples_split'] = [2, 3, 4, 5]\n",
    "        \n",
    "    # create pipeline referencing the dictionary I created earlier             \n",
    "    pipe = Pipeline([(vec_name, vec_dict[vec_name]), (model_name, model_dict[model_name])]) \n",
    "    \n",
    "    # perform gridsearch\n",
    "    rs = RandomizedSearchCV(pipe, pipe_params, cv=3, random_state=42)\n",
    "    \n",
    "    # fit the model\n",
    "    rs.fit(X_train, y_train)\n",
    "    \n",
    "    # generate cross validation score\n",
    "    cv_score = rs.best_score_\n",
    "    \n",
    "    # generate train and test score\n",
    "    train_score = rs.score(X_train, y_train)\n",
    "    test_score = rs.score(X_test, y_test)\n",
    "    \n",
    "    # print statement and return predictions\n",
    "    print(f\"Model Cross Val Score: {cv_score}\")\n",
    "    print(f\"Train Score: {train_score}\")\n",
    "    print(f\"Test Score: {test_score}\")\n",
    "    print(rs.best_params_)\n",
    "    return rs.predict(X_test)\n",
    "\n",
    "        "
   ]
  },
  {
   "cell_type": "code",
   "execution_count": 15,
   "metadata": {
    "scrolled": true
   },
   "outputs": [
    {
     "name": "stdout",
     "output_type": "stream",
     "text": [
      "Model Cross Val Score: 0.6430504854851127\n",
      "Train Score: 0.9076923076923077\n",
      "Test Score: 0.6251920122887865\n",
      "{'cvec__max_df': 1.0, 'cvec__max_features': 2000, 'cvec__min_df': 3, 'cvec__ngram_range': (1, 3)}\n"
     ]
    }
   ],
   "source": [
    "# CVEC LOGREG\n",
    "\n",
    "ypred_cvec_logreg = gridsearchcv('cvec', 'logreg')"
   ]
  },
  {
   "cell_type": "code",
   "execution_count": 16,
   "metadata": {},
   "outputs": [
    {
     "name": "stdout",
     "output_type": "stream",
     "text": [
      "Model Cross Val Score: 0.6476818396284982\n",
      "Train Score: 0.9053846153846153\n",
      "Test Score: 0.6451612903225806\n",
      "{'tvec__max_df': 1.0, 'tvec__max_features': 3000, 'tvec__min_df': 1, 'tvec__ngram_range': (1, 1)}\n"
     ]
    }
   ],
   "source": [
    "# TVEC LOGREG\n",
    "\n",
    "ypred_tvec_logreg = gridsearchcv('tvec', 'logreg')"
   ]
  },
  {
   "cell_type": "markdown",
   "metadata": {},
   "source": [
    "For Logistic Regression, the train score is much higher than the test score, signifying high overfitting. Vectorising the data with TFIDF seemed to give a slighly better accuracy and also performing slightly better than the baseline score."
   ]
  },
  {
   "cell_type": "code",
   "execution_count": 17,
   "metadata": {},
   "outputs": [
    {
     "name": "stdout",
     "output_type": "stream",
     "text": [
      "Model Cross Val Score: 0.6423125906847876\n",
      "Train Score: 0.9038461538461539\n",
      "Test Score: 0.6543778801843319\n",
      "{'cvec__max_df': 1.0, 'cvec__max_features': 3000, 'cvec__min_df': 1, 'cvec__ngram_range': (1, 1)}\n"
     ]
    }
   ],
   "source": [
    "# CVEC Multinomial NB\n",
    "\n",
    "ypred_cvec_nb = gridsearchcv('cvec', 'nb')"
   ]
  },
  {
   "cell_type": "code",
   "execution_count": 18,
   "metadata": {},
   "outputs": [
    {
     "name": "stdout",
     "output_type": "stream",
     "text": [
      "Model Cross Val Score: 0.654610246095011\n",
      "Train Score: 0.8946153846153846\n",
      "Test Score: 0.6451612903225806\n",
      "{'tvec__max_df': 1.0, 'tvec__max_features': 2000, 'tvec__min_df': 1, 'tvec__ngram_range': (1, 1)}\n"
     ]
    }
   ],
   "source": [
    "# TVEC Multinomial NB\n",
    "\n",
    "ypred_tvec_nb = gridsearchcv('tvec', 'nb')"
   ]
  },
  {
   "cell_type": "markdown",
   "metadata": {},
   "source": [
    "For Multinomial NB, it seems that overfitting is also evident in both as the train score is much higher than the test score. This model gives better accuracy compared to the logistic regression, whether the data is vectorised either by Count or TFIDF. Both vectorisation give us better accuracy than the baseline.\n",
    "\n",
    "Although Multinomial NB with Count Vectorisation also performed quite well, Multinomial NB with TFIDF vectorisation is the better model between them because of less overfitting."
   ]
  },
  {
   "cell_type": "code",
   "execution_count": 19,
   "metadata": {},
   "outputs": [
    {
     "name": "stdout",
     "output_type": "stream",
     "text": [
      "Model Cross Val Score: 0.6323084400265359\n",
      "Train Score: 0.8115384615384615\n",
      "Test Score: 0.6482334869431644\n",
      "{'rf__n_estimators': 1000, 'rf__min_samples_split': 3, 'rf__min_samples_leaf': 3, 'rf__max_depth': 60, 'cvec__ngram_range': (1, 1), 'cvec__min_df': 3, 'cvec__max_features': 2000, 'cvec__max_df': 0.95}\n"
     ]
    }
   ],
   "source": [
    "# CVEC RandomForest\n",
    "\n",
    "ypred_cvec_rf = randomsearchcv('cvec', 'rf')"
   ]
  },
  {
   "cell_type": "code",
   "execution_count": 20,
   "metadata": {},
   "outputs": [
    {
     "name": "stdout",
     "output_type": "stream",
     "text": [
      "Model Cross Val Score: 0.6384563808388587\n",
      "Train Score: 0.8646153846153846\n",
      "Test Score: 0.6374807987711214\n",
      "{'tvec__ngram_range': (1, 3), 'tvec__min_df': 1, 'tvec__max_features': 2000, 'tvec__max_df': 1.0, 'rf__n_estimators': 700, 'rf__min_samples_split': 2, 'rf__min_samples_leaf': 3, 'rf__max_depth': 100}\n"
     ]
    }
   ],
   "source": [
    "# TVEC RandomForest\n",
    "\n",
    "ypred_tvec_rf = randomsearchcv('tvec', 'rf')"
   ]
  },
  {
   "cell_type": "markdown",
   "metadata": {},
   "source": [
    "The RandomForest did surprise me as it was able to reduce the overfitting much more significantly than other models. This could be due to the nature of RandomForest as it was designed to reduce overfitting because decision trees tend to overfit severely.\n",
    "\n",
    "RandomForest with Count Vectorisation was able to give an accuracy better than the baseline score."
   ]
  },
  {
   "cell_type": "markdown",
   "metadata": {},
   "source": [
    "## 4. Evalution"
   ]
  },
  {
   "cell_type": "markdown",
   "metadata": {},
   "source": [
    "Compared to the baseline scores, these are the 2 models which performed the best after hypertuning the parameters:\n",
    "\n",
    "**Baseline score:**\n",
    "    - Train Score: 97.38%\n",
    "    - test score: 63.29%\n",
    "\n",
    "**Model A: RandomForest with Count Vectorisation**\n",
    "    - Train Score: 81.15%\n",
    "    - Test Score: 64.82%\n",
    "\n",
    "**Model B: Multinomial NB with TFIDF Vectorisation**\n",
    "    - Train Score: 89.46%\n",
    "    - Test Score: 64.51%\n",
    "    \n",
    "These models have better accuracy scores than the baseline score. Furthermore, RandomForest had the least overfitting among all, making it a good model to generalise to unseen data. \n",
    "\n",
    "The two models will be compared and evaluated in the next section"
   ]
  },
  {
   "cell_type": "markdown",
   "metadata": {},
   "source": [
    "### Confusion Matrix\n",
    "\n",
    "To evaluate the two models, we will examine the Confusion Matrix and the ROC Curve."
   ]
  },
  {
   "cell_type": "code",
   "execution_count": 21,
   "metadata": {},
   "outputs": [],
   "source": [
    "# confusion matrix of Model A, cvec_rf\n",
    "cm_a = confusion_matrix(y_test, ypred_cvec_rf)\n",
    "\n",
    "# confusion matrix of Model B, tvec_nb\n",
    "cm_b = confusion_matrix(y_test, ypred_tvec_nb)"
   ]
  },
  {
   "cell_type": "code",
   "execution_count": 22,
   "metadata": {},
   "outputs": [
    {
     "data": {
      "text/html": [
       "<div>\n",
       "<style scoped>\n",
       "    .dataframe tbody tr th:only-of-type {\n",
       "        vertical-align: middle;\n",
       "    }\n",
       "\n",
       "    .dataframe tbody tr th {\n",
       "        vertical-align: top;\n",
       "    }\n",
       "\n",
       "    .dataframe thead th {\n",
       "        text-align: right;\n",
       "    }\n",
       "</style>\n",
       "<table border=\"1\" class=\"dataframe\">\n",
       "  <thead>\n",
       "    <tr style=\"text-align: right;\">\n",
       "      <th></th>\n",
       "      <th>predict Shitty</th>\n",
       "      <th>predict Godtier</th>\n",
       "    </tr>\n",
       "  </thead>\n",
       "  <tbody>\n",
       "    <tr>\n",
       "      <th>actual Shitty</th>\n",
       "      <td>216</td>\n",
       "      <td>104</td>\n",
       "    </tr>\n",
       "    <tr>\n",
       "      <th>actual Godtier</th>\n",
       "      <td>125</td>\n",
       "      <td>206</td>\n",
       "    </tr>\n",
       "  </tbody>\n",
       "</table>\n",
       "</div>"
      ],
      "text/plain": [
       "                predict Shitty  predict Godtier\n",
       "actual Shitty              216              104\n",
       "actual Godtier             125              206"
      ]
     },
     "execution_count": 22,
     "metadata": {},
     "output_type": "execute_result"
    }
   ],
   "source": [
    "# confusion matrix of Model A, cvec_rf\n",
    "# create a dataframe so that we can see it clearer\n",
    "cm_a_df = pd.DataFrame(data=cm_a, columns = ['predict Shitty', 'predict Godtier'], index=['actual Shitty','actual Godtier'])\n",
    "cm_a_df"
   ]
  },
  {
   "cell_type": "code",
   "execution_count": 23,
   "metadata": {},
   "outputs": [
    {
     "data": {
      "text/html": [
       "<div>\n",
       "<style scoped>\n",
       "    .dataframe tbody tr th:only-of-type {\n",
       "        vertical-align: middle;\n",
       "    }\n",
       "\n",
       "    .dataframe tbody tr th {\n",
       "        vertical-align: top;\n",
       "    }\n",
       "\n",
       "    .dataframe thead th {\n",
       "        text-align: right;\n",
       "    }\n",
       "</style>\n",
       "<table border=\"1\" class=\"dataframe\">\n",
       "  <thead>\n",
       "    <tr style=\"text-align: right;\">\n",
       "      <th></th>\n",
       "      <th>predict Shitty</th>\n",
       "      <th>predict Godtier</th>\n",
       "    </tr>\n",
       "  </thead>\n",
       "  <tbody>\n",
       "    <tr>\n",
       "      <th>actual Shitty</th>\n",
       "      <td>185</td>\n",
       "      <td>135</td>\n",
       "    </tr>\n",
       "    <tr>\n",
       "      <th>actual Godtier</th>\n",
       "      <td>96</td>\n",
       "      <td>235</td>\n",
       "    </tr>\n",
       "  </tbody>\n",
       "</table>\n",
       "</div>"
      ],
      "text/plain": [
       "                predict Shitty  predict Godtier\n",
       "actual Shitty              185              135\n",
       "actual Godtier              96              235"
      ]
     },
     "execution_count": 23,
     "metadata": {},
     "output_type": "execute_result"
    }
   ],
   "source": [
    "# Model B, tvec_nb\n",
    "cm_b_df = pd.DataFrame(data=cm_b, columns = ['predict Shitty', 'predict Godtier'], index=['actual Shitty','actual Godtier'])\n",
    "cm_b_df"
   ]
  },
  {
   "cell_type": "code",
   "execution_count": 24,
   "metadata": {},
   "outputs": [
    {
     "name": "stdout",
     "output_type": "stream",
     "text": [
      "Accuracy: 64.82%\n",
      "Misclassification rate: 35.18%\n",
      "Precision: 66.45%\n",
      "True Positive Rate: 62.24%\n",
      "True Negative Rate: 67.5%\n"
     ]
    }
   ],
   "source": [
    "# generate metrics summary for Model A\n",
    "\n",
    "tn, fp, fn, tp = cm_a.ravel()\n",
    "print('Accuracy: {}%'.format(round((tp+tn)*100/(tp+fp+tn+fn),2)))\n",
    "print('Misclassification rate: {}%'.format(round((fp+fn)*100/(tp+fp+tn+fn),2)))\n",
    "print('Precision: {}%'.format(round(tp*100/(tp+fp),2))) # when model predict yes, how many percent correct\n",
    "print('True Positive Rate: {}%'.format(round(tp*100/(tp+fn),2))) # when actually yes, how many predict yes\n",
    "print('True Negative Rate: {}%'.format(round(tn*100/(tn+fp),2))) # when actually no, how many predict no"
   ]
  },
  {
   "cell_type": "code",
   "execution_count": 25,
   "metadata": {},
   "outputs": [
    {
     "name": "stdout",
     "output_type": "stream",
     "text": [
      "Accuracy: 64.52%\n",
      "Misclassification rate: 35.48%\n",
      "Precision: 63.51%\n",
      "True Positive Rate: 71.0%\n",
      "True Negative Rate: 57.81%\n"
     ]
    }
   ],
   "source": [
    "# generate metrics summary for Model B\n",
    "\n",
    "tn, fp, fn, tp = cm_b.ravel()\n",
    "print('Accuracy: {}%'.format(round((tp+tn)*100/(tp+fp+tn+fn),2)))\n",
    "print('Misclassification rate: {}%'.format(round((fp+fn)*100/(tp+fp+tn+fn),2)))\n",
    "print('Precision: {}%'.format(round(tp*100/(tp+fp),2))) # when model predict yes, how many percent correct\n",
    "print('True Positive Rate: {}%'.format(round(tp*100/(tp+fn),2)))  # when actually yes, how many predict yes\n",
    "print('True Negative Rate: {}%'.format(round(tn*100/(tn+fp),2)))  # when actually no, how many predict no"
   ]
  },
  {
   "cell_type": "markdown",
   "metadata": {},
   "source": [
    "**Model A Most Optimal Classification Model**\n",
    "\n",
    "Both models generally have the same level of *accuracy* of 64%, with Model A perfoming slightly better.\n",
    "\n",
    "Model A classified a total of 310 post into r/godtiersuperpowers, with a better precision than Model B. Model B classified a total 370 post. Model A has less false positives than Model B, where posts are less likely to be classified wrongly. Naturally, this is also why Model B has a higher True Positive Rate as Model B simply made more predictions. Finally, Model A also did better at classifying the negative class as well.\n",
    "\n",
    "Also, as explored during EDA, the model is expected to have a tendency to classify more false negatives, which is the case for Model A. But it is able to classify both classes more evenly and hence, making it a stronger model for generalisation.\n",
    "\n",
    "**Model A** seems to be the best classifier here, which uses RandomForest with Count Vectorisation based on the metrics. Model A also has the least overfitting amongst all the model tested, which is an additional plus point.\n",
    "\n",
    " "
   ]
  },
  {
   "cell_type": "markdown",
   "metadata": {},
   "source": [
    "### ROC Curve and AOC Score\n",
    "\n",
    "Plotting the ROC curve and calculating the AOC score to compare the two models"
   ]
  },
  {
   "cell_type": "code",
   "execution_count": 26,
   "metadata": {},
   "outputs": [],
   "source": [
    "# refit the pipelines for Model A\n",
    "pipe_a = Pipeline([\n",
    "    ('cvec', CountVectorizer(min_df = 3, max_features = 2000, max_df = 0.95, ngram_range = (1,1))),\n",
    "    ('rf', RandomForestClassifier(n_estimators = 1000, min_samples_leaf = 3, min_samples_split = 3,\n",
    "    max_depth = 60, random_state = 42))])\n",
    "\n",
    "pipe_a.fit(X_train, y_train);"
   ]
  },
  {
   "cell_type": "code",
   "execution_count": 27,
   "metadata": {},
   "outputs": [],
   "source": [
    "# refit the pipelines for Model B\n",
    "pipe_b = Pipeline([\n",
    "    ('tvec', TfidfVectorizer(max_df = 1.0, max_features = 2000, min_df = 1, ngram_range = (1,1))),\n",
    "    ('nb', MultinomialNB())\n",
    "     ])\n",
    "\n",
    "pipe_b.fit(X_train, y_train);"
   ]
  },
  {
   "cell_type": "code",
   "execution_count": 28,
   "metadata": {},
   "outputs": [],
   "source": [
    "# create a list of probability in predicting 1\n",
    "pred_proba_a = [i[1] for i in pipe_a.predict_proba(X_test)]\n",
    "pred_proba_b = [i[1] for i in pipe_b.predict_proba(X_test)]\n",
    "\n",
    "# Create a dataframe to churn out ROC Curve\n",
    "pred_df = pd.DataFrame({'true_values': y_test, 'pred_probs_a': pred_proba_a, 'pred_probs_b' : pred_proba_b})"
   ]
  },
  {
   "cell_type": "code",
   "execution_count": 29,
   "metadata": {},
   "outputs": [
    {
     "data": {
      "image/png": "[encoded data removed]",
      "text/plain": [
       "<Figure size 720x504 with 1 Axes>"
      ]
     },
     "metadata": {
      "needs_background": "light"
     },
     "output_type": "display_data"
    }
   ],
   "source": [
    "# Create figure.\n",
    "plt.figure(figsize = (10,7))\n",
    "\n",
    "# Create threshold values. (Dashed red line in image.)\n",
    "thresholds = np.linspace(0, 1, 200)\n",
    "\n",
    "# Define function to calculate sensitivity. (True positive rate.)\n",
    "def TPR(df, true_col, pred_prob_col, threshold):\n",
    "    true_positive = df[(df[true_col] == 1) & (df[pred_prob_col] >= threshold)].shape[0]\n",
    "    false_negative = df[(df[true_col] == 1) & (df[pred_prob_col] < threshold)].shape[0]\n",
    "    return (true_positive / (true_positive + false_negative))\n",
    "    \n",
    "# Define function to calculate 1 - specificity. (False positive rate.)\n",
    "def FPR(df, true_col, pred_prob_col, threshold):\n",
    "    true_negative = df[(df[true_col] == 0) & (df[pred_prob_col] <= threshold)].shape[0]\n",
    "    false_positive = df[(df[true_col] == 0) & (df[pred_prob_col] > threshold)].shape[0]\n",
    "    return 1 - (true_negative / (true_negative + false_positive))\n",
    "    \n",
    "# Calculate sensitivity & 1-specificity for each threshold between 0 and 1.\n",
    "tpr_values = [TPR(pred_df, 'true_values', 'pred_probs_a', prob) for prob in thresholds]\n",
    "fpr_values = [FPR(pred_df, 'true_values', 'pred_probs_a', prob) for prob in thresholds]\n",
    "\n",
    "tpr_values2 = [TPR(pred_df, 'true_values', 'pred_probs_b', prob) for prob in thresholds]\n",
    "fpr_values2 = [FPR(pred_df, 'true_values', 'pred_probs_b', prob) for prob in thresholds]\n",
    "\n",
    "# Plot ROC curve.\n",
    "plt.plot(fpr_values, # False Positive Rate on X-axis\n",
    "         tpr_values, # True Positive Rate on Y-axis\n",
    "         label='ROC Curve Model A')\n",
    "\n",
    "plt.plot(fpr_values2, # False Positive Rate on X-axis\n",
    "         tpr_values2, # True Positive Rate on Y-axis\n",
    "         label='ROC Curve Model B')\n",
    "\n",
    "# Plot baseline. (Perfect overlap between the two populations.)\n",
    "plt.plot(np.linspace(0, 1, 200),\n",
    "         np.linspace(0, 1, 200),\n",
    "         label='baseline',\n",
    "         linestyle='--')\n",
    "\n",
    "# Label axes.\n",
    "plt.title(\"ROC Curve of Two Models\", fontsize=22)\n",
    "plt.ylabel('True Positive Rate (Sensitivity)', fontsize=18)\n",
    "plt.xlabel('False Positive Rate (1 - Specificity)', fontsize=18)\n",
    "\n",
    "# Create legend.\n",
    "plt.legend(fontsize=16);"
   ]
  },
  {
   "cell_type": "code",
   "execution_count": 30,
   "metadata": {},
   "outputs": [
    {
     "name": "stdout",
     "output_type": "stream",
     "text": [
      "Model A AUC is 0.649\n",
      "Model B AUC is 0.644\n"
     ]
    }
   ],
   "source": [
    "# Calculate AUC of both Models\n",
    "\n",
    "auc_a = roc_auc_score(y_test, pipe_a.predict(X_test))\n",
    "auc_b = roc_auc_score(y_test, pipe_b.predict(X_test))\n",
    "\n",
    "print(f\"Model A AUC is {round(auc_a, 3)}\")\n",
    "print(f\"Model B AUC is {round(auc_b, 3)}\")"
   ]
  },
  {
   "cell_type": "markdown",
   "metadata": {},
   "source": [
    "Ideally, the higher the curve is to the top left of the graph, the better the performance. Visually, it is difficult to tell which model is better as the curves are very similar. Hence, we should look at the actual scores to determine which model performed better.\n",
    "\n",
    "**Model A** performed slightly better than Model B with an AUC score of 0.649. \n",
    "\n",
    "In Conclusion, based on both metrics, the Confusion matrix and ROC AUC Score, **Model A** is the best model for this project."
   ]
  },
  {
   "cell_type": "markdown",
   "metadata": {},
   "source": [
    "## 5. Conclusion and Recommendations"
   ]
  },
  {
   "cell_type": "markdown",
   "metadata": {},
   "source": [
    "I have managed to build a classifier model based on redditors' sentiments and opinions which could determine whether a post belong to r/godtiersuperpowers or r/shittysuperpowers. The model has a 65% accuracy in correctly determining whether a post belongs to whichever subreddit.\n",
    "\n",
    "Another way to interpret the accuracy is that the model is able to determine whether reddit users would think a super power is \"god-tier\" or \"shitty\", with 65% chance of being right.\n",
    "\n",
    "For example, we could test this below."
   ]
  },
  {
   "cell_type": "code",
   "execution_count": 31,
   "metadata": {},
   "outputs": [
    {
     "name": "stdout",
     "output_type": "stream",
     "text": [
      "Redditors think your super power is Shitty!\n"
     ]
    }
   ],
   "source": [
    "# determine your superpower\n",
    "st = \"teleport randomly\"\n",
    "\n",
    "# using Model A to predict\n",
    "pred = pipe_a.predict([st])\n",
    "\n",
    "if pred[0] == 1:\n",
    "    print(\"Redditors think your super power is God-Tier!\")\n",
    "else:\n",
    "    print(\"Redditors think your super power is Shitty!\")"
   ]
  },
  {
   "cell_type": "code",
   "execution_count": 32,
   "metadata": {},
   "outputs": [
    {
     "name": "stdout",
     "output_type": "stream",
     "text": [
      "Redditors think your super power is God-Tier!\n"
     ]
    }
   ],
   "source": [
    "# determine your superpower\n",
    "st = \"read while sleep\"\n",
    "pred = pipe_a.predict([st])\n",
    "\n",
    "# using Model A to predict\n",
    "if pred[0] == 1:\n",
    "    print(\"Redditors think your super power is God-Tier!\")\n",
    "else:\n",
    "    print(\"Redditors think your super power is Shitty!\")"
   ]
  },
  {
   "cell_type": "markdown",
   "metadata": {},
   "source": [
    "Seems like the model is quite successful in classifying the above statements!\n",
    "\n",
    "Overall, the model is quite good at classifying more than half the time but it is still lacking in order for it to be more useful. \n",
    "\n",
    "\n",
    "**Limitations**\n",
    "\n",
    "The model is far from perfect and has a lot of shortcomings and limitations. Based on EDA, preprocessing and modelling, here are three limitations which could be addressed.\n",
    "\n",
    "1. The model is limited to the vocabularies it is trained with. It will be difficult for the model to predict from complex strings. The model uses key vocabularies from each post to train and determine the results, using vocabularies outside of the model may not work very well.\n",
    "\n",
    "\n",
    "2. The topics of both subreddits are highly subjective. Even human beings have difficulty in determining what is absolute good or bad. A super power which might seem bad could be good in another's eyes. Hence, it can be very difficult to achieve high accuracy in these two subreddits.\n",
    "\n",
    "\n",
    "3. It cannot process Non-ASCII Characters. The model is not able to fully analyse non-ASCII characters, such as emojis and foreign characters. They are removed but they are also data observations too. For example, emojis like 🙃 could tell us someone is being sarcastic. Unfortunately, the tools to clean and analyse non-ASCII characters are not available yet. Manually imputing is an option but it would take too long to go through everything.\n",
    "\n",
    "**Recommendations**\n",
    "\n",
    "1. Scrape more data and train the model with more words! As the machine learns more vocabularies, it would predict better.\n",
    "\n",
    "\n",
    "2. To reduce the subjectivity and improve objectivity, perhaps more feature engineering is required. Perhaps words can be further classified into categories first. For example, they can be classified into verbs and adjectives. The current model classifies based on a mixture of verbs, adjectives and nouns.\n",
    "\n",
    "\n",
    "3. Explore libraries or other tools which can analyse emojis, such as [DeepMoji](https://deepmoji.mit.edu/). This will become inevitable as more people express themselves this way, especially in cooler subreddits.\n",
    "\n",
    "**Stakeholders**\n",
    "\n",
    "From the EDA and model, content creators definitely could understand the kind of abilities which interest our redditors, and understand what sets both subreddits apart through analysing the words used. They can also get a sense of what redditors would think by running super powers through the model. \n",
    "\n",
    "For moderators, it is possible that such a model could be automated and integrated into the backend which allows for automated sorting of reddit posts. It could also be expanded to flag inappropriate content, such as racists remarks or words which violate community standards. \n",
    "\n",
    "However, for it to be truly feasible and applicable, the model needs to overcome the above limitations and improve its accuracy."
   ]
  }
 ],
 "metadata": {
  "kernelspec": {
   "display_name": "Python 3",
   "language": "python",
   "name": "python3"
  },
  "language_info": {
   "codemirror_mode": {
    "name": "ipython",
    "version": 3
   },
   "file_extension": ".py",
   "mimetype": "text/x-python",
   "name": "python",
   "nbconvert_exporter": "python",
   "pygments_lexer": "ipython3",
   "version": "3.8.3"
  }
 },
 "nbformat": 4,
 "nbformat_minor": 4
}
