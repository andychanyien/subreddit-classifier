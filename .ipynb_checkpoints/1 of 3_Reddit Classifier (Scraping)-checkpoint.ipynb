{
 "cells": [
  {
   "cell_type": "markdown",
   "metadata": {},
   "source": [
    "# Reddit Post Classifier"
   ]
  },
  {
   "cell_type": "markdown",
   "metadata": {},
   "source": [
    "## Problem Statement\n",
    "\n",
    "Some people wish they were born with super powers, allowing them to do many amazing things typical human beings could not do. On the other hand, there are also some super powers which could bring some inconvenience too. For example, the ability to turn things into gold by touching an object (like the midas touch) may seem like an awesome super power. However, it also turns food into gold; you will not be unable to eat anything at all. In such cases, people would call it a \"shitty super power\". The subreddit dedicated for such discussion is r/shittysuperpowers. The super powers discussion are usually hilarious power which affects daily lives and daily activities.\n",
    "\n",
    "The more extreme version and positive version can be found here r/godtiersuperpower. According to the description, it is \"r/shittysuperpowers, but they're actually god tier\". In this subreddit, they discuss hilarious powers but gives strong powers that are comparable to God. Hence, both subreddit have hilarious powers but the difference lies with the outcome of those super powers.\n",
    "\n",
    "In which subreddit would your super power be classified under? The aim of this notebook is to build a classifier model based on reddit users' sentiments. The classifier would be able to determine whether a super power is \"god-tier\" [1] or \"shitty\" [0] through analysing the text within the post. Since the training dataset would be from reddit users, if the model has high accuracy and predictability, it should be able to determine what reddit users think about your super power. The classfier models which will be explored are Logistic Regression, Multinomial NB and RandomForest, vectorised either by Count or by TFIDF.\n",
    "\n",
    "**Measurement of Success**\n",
    "\n",
    "The prediction of the model will be scored and it's accuracy will be determined. The higher the accuracy, the more accurate the model is at predicting whether a super power is considered god-tier or shitty, based on Redditors' sentiment/opinions. \n",
    "\n",
    "Another measurement of success will be feeding the model two super powers and determine if the predictions are likely to be true.\n",
    "\n",
    "**Primary Stakeholders**\n",
    "\n",
    "The model could be useful content creators, such as novel writers or comic creators, to determine whether their new super hero with a new super power would be favourable among the community or not. In the world of content creators, these are valuable information which allows them to sense whether their idea would be favourable or not within the community. Furthermore, when vying for consumers' attention, creators with a headstart have a higher chance extending their lead in the market.\n",
    "\n",
    "**Secondary Stakeholders**\n",
    "\n",
    "Another useful application would be using it as a tool for reddit's website backend. The subreddit moderators could use such tools to automatically classify posts which may not belong to a certain subreddit group."
   ]
  },
  {
   "cell_type": "markdown",
   "metadata": {},
   "source": [
    "## Executive Summary\n",
    "\n",
    "Reddit is a go-to place for communities to engage in discussions and express themselves in across various topics in different subreddits. Wouldn't it be nice to know how the community feels about certain issues without looking through thousands of posts? Wouldn't we then be able to know what grabs their attention?\n",
    "\n",
    "Based on two subreddits, r/godtiersuperpowers and r/shittysuperpowers, a model was developed to determine whether a post belongs to which subreddit. The model was trained based on redditors' sentiments and opinions in both subreddits. Through such a model, we could understand whether a super power would be considered \"God-tier\" or \"Shitty\".\n",
    "\n",
    "During the EDA, the words used in each subreddit was analysed based on frequency (using Count Vectorisation) and its salience (using TFIDF Vectorisation). Firstly, the 20 most frequent words were compared between the two subreddits to see what kind of words appear the most in each subreddit. The more certain words appear over the other subreddit, the stronger it is as a determinant in the classifier model. Secondly, the TFIDF Vectorisor showed the most significant (or unique) word in each posts, relative to the all the text. The more unique the word, the stronger it is as a determinant in the classifier model. Finally, salient words in each subreddit were also compared against each other to determine the words unique to each subreddit and whether there were common words.\n",
    "\n",
    "**Findings**:\n",
    "\n",
    "- The median word count for r/godtiersuperpowers and r/shittysuperpowers are 56 words and 46 words respectively, with many outliers writing beyond 500 words.\n",
    "\n",
    "- Both subreddits have quite a lot in common\n",
    "    - Among the 20 most frequent words, there were 10 common words.\n",
    "    - There about 700 words unique to each subreddit, with 166 common words.\n",
    "\n",
    "- The common words tend to describe god-tier powers more, making it likely for model to predict false negatives.\n",
    "\n",
    "- Context is still very important, words without context are insufficient to qualify a super power.\n",
    "\n",
    "\n",
    "**Model Evaluation and Selection**\n",
    "\n",
    "Using Count Vectorisation and TFIDF Vectorisation to preprocess the dataset, and applying it to Logisitic Regression, Multinomial Naive Bayes and RandomForest, a total of 6 models were developed. The models were also optimised by tuning their hyperparameters using GridSearchCV and RandomSearchCV. Out of the 6 models, the top 2 performing models were scored based on Accuracy and AUC score. In the end, RandomForest with Count Vectorisation performed the best, with the least overfitting, high accuracy and higher AUC score. \n",
    "\n",
    "**Results**\n",
    "\n",
    "One can understand whether a super power would be god-tier or shitty based on the model. It has an accuracy of about 65% with an AUC score of 0.649. Content creators and reddit moderators would be able to leverage on such algorithm but its limitation should be overcome in order for it to be practical and useful.\n",
    "\n",
    "\n",
    "\n"
   ]
  },
  {
   "cell_type": "markdown",
   "metadata": {},
   "source": [
    "### Contents:\n",
    "\n",
    "- [Data Dictionary](#Data-Dictionary)\n",
    "- [Scrapping from Reddit](#1.-Scapping-from-Reddit)\n",
    "- [Data Cleaning and Basic EDA](2%20of%203_Reddit%20Classifier%20(Data%20Cleaning%20and%20EDA).ipynb#2.-Data-Cleaning-and-EDA)\n",
    "- [Preprocessing and Modelling](3%20of%203_Reddit%20Classifier%20(Modelling%2C%20Evaluation%2C%20Conclusion).ipynb#3.-Preprocessing-and-Modelling)\n",
    "- [Model Evaluation](3%20of%203_Reddit%20Classifier%20(Modelling%2C%20Evaluation%2C%20Conclusion).ipynb#4.-Evalution)\n",
    "- [Conclusion and Recommendations](3%20of%203_Reddit%20Classifier%20(Modelling%2C%20Evaluation%2C%20Conclusion).ipynb#5.-Conclusion-and-Recommendations)"
   ]
  },
  {
   "cell_type": "markdown",
   "metadata": {},
   "source": [
    "## Data Dictionary\n",
    "\n",
    "|Feature|Type|Dataset|Description|\n",
    "|---|---|---|---|\n",
    "|**name**|object|god_tier_df, shitty_df, combined_df|unique ID for each poster|\n",
    "|**selftext**|object|god_tier_df, shitty_df, combined_df|The text where users can write more than one sentence or more than the title|\n",
    "|**title**|object|god_tier_df, shitty_df, combined_df|The title of the post|\n",
    "|**subreddit**|object|god_tier_df, shitty_df, combined_df|The subreddit the post belongs to|\n",
    "|**combined_text**|object|god_tier_df, shitty_df, combined_df|The combination of selftext and title|"
   ]
  },
  {
   "cell_type": "markdown",
   "metadata": {},
   "source": [
    "## 1. Scapping from Reddit"
   ]
  },
  {
   "cell_type": "code",
   "execution_count": 6,
   "metadata": {},
   "outputs": [],
   "source": [
    "import requests\n",
    "import pandas as pd\n",
    "import time\n",
    "import random"
   ]
  },
  {
   "cell_type": "code",
   "execution_count": 7,
   "metadata": {},
   "outputs": [],
   "source": [
    "# set headers for scraping reddit\n",
    "\n",
    "headers= {'User-agent': 'Mr. Celeryboy'}"
   ]
  },
  {
   "cell_type": "code",
   "execution_count": 8,
   "metadata": {},
   "outputs": [],
   "source": [
    "# create a function to scrape since I am going to scrape 2 subreddits.\n",
    "\n",
    "def scrap_reddit(subreddit_name, num_res):\n",
    "    \"\"\"Defining a function which takes in a subreddit name and the number of\n",
    "    requests. Since reddit only allows us to scrap 25 times per request,\n",
    "    num_res = number of post / 25\"\"\"\n",
    "    \n",
    "    url = (f\"https://www.reddit.com/r/{subreddit_name}/top/.json?sort=top&t=all\")\n",
    "    \n",
    "    posts = [] # creates an empty list which to store all the posts\n",
    "    after = None # the identifier or \"name\" of the last post, which allows to load the next 25. \n",
    "\n",
    "    for a in range(num_res):\n",
    "        # for the first 25, there after would be None.\n",
    "        if after == None:\n",
    "            current_url = url\n",
    "        else:\n",
    "            # goes to the next 25 posts\n",
    "            current_url = url + '&after=' + after\n",
    "        print(current_url)\n",
    "        res = requests.get(current_url, headers=headers)\n",
    "\n",
    "        if res.status_code != 200:\n",
    "            print('Status error', res.status_code)\n",
    "            break\n",
    "\n",
    "        # returns a single post with all attributes\n",
    "        current_dict = res.json()\n",
    "        \n",
    "        # returns only the posts\n",
    "        current_posts = [p['data'] for p in current_dict['data']['children']]\n",
    "        \n",
    "        # extends the posts(list) created above\n",
    "        posts.extend(current_posts)\n",
    "        \n",
    "        # changes 'after' to the identifier or the \"name\" of the 25th or the last post.\n",
    "        after = current_dict['data']['after']\n",
    "\n",
    "        # generate a random sleep duration to avoid clogging the server\n",
    "        sleep_duration = random.randint(2,20)\n",
    "        print(f\"Sleep Time: {sleep_duration} seconds, Loop {a+1}/{num_res} completed\")\n",
    "        time.sleep(sleep_duration)\n",
    "        \n",
    "    return posts"
   ]
  },
  {
   "cell_type": "code",
   "execution_count": 9,
   "metadata": {},
   "outputs": [],
   "source": [
    "# a function to also create a dataframe\n",
    "\n",
    "def create_df(*list_of_posts, columns=['name','selftext', 'title', 'subreddit']):\n",
    "    \"\"\"\n",
    "    Define a function which creates a dataframe based on any number of subreddit categories. For example\n",
    "    create_df(subreddit_1, subreddit_2, subreddit_3, subreddit_4).\n",
    "    \n",
    "    These are the columns which we have an interest in\n",
    "    \n",
    "    \"\"\"\n",
    "    combined_posts = []\n",
    "    for posts in list_of_posts:\n",
    "        combined_posts.extend(posts)\n",
    "    return pd.DataFrame(combined_posts,columns = columns)"
   ]
  },
  {
   "cell_type": "code",
   "execution_count": 10,
   "metadata": {},
   "outputs": [
    {
     "name": "stdout",
     "output_type": "stream",
     "text": [
      "https://www.reddit.com/r/godtiersuperpowers/top/.json?sort=top&t=all\n",
      "Sleep Time: 17 seconds, Loop 1/40 completed\n",
      "https://www.reddit.com/r/godtiersuperpowers/top/.json?sort=top&t=all&after=t3_czgzsl\n",
      "Sleep Time: 2 seconds, Loop 2/40 completed\n",
      "https://www.reddit.com/r/godtiersuperpowers/top/.json?sort=top&t=all&after=t3_cag882\n",
      "Sleep Time: 18 seconds, Loop 3/40 completed\n",
      "https://www.reddit.com/r/godtiersuperpowers/top/.json?sort=top&t=all&after=t3_dngfr5\n",
      "Sleep Time: 17 seconds, Loop 4/40 completed\n",
      "https://www.reddit.com/r/godtiersuperpowers/top/.json?sort=top&t=all&after=t3_cgqf9t\n",
      "Sleep Time: 7 seconds, Loop 5/40 completed\n",
      "https://www.reddit.com/r/godtiersuperpowers/top/.json?sort=top&t=all&after=t3_gu0x4p\n",
      "Sleep Time: 17 seconds, Loop 6/40 completed\n",
      "https://www.reddit.com/r/godtiersuperpowers/top/.json?sort=top&t=all&after=t3_dv73ym\n",
      "Sleep Time: 2 seconds, Loop 7/40 completed\n",
      "https://www.reddit.com/r/godtiersuperpowers/top/.json?sort=top&t=all&after=t3_dhpg3m\n",
      "Sleep Time: 14 seconds, Loop 8/40 completed\n",
      "https://www.reddit.com/r/godtiersuperpowers/top/.json?sort=top&t=all&after=t3_hp9ejm\n",
      "Sleep Time: 14 seconds, Loop 9/40 completed\n",
      "https://www.reddit.com/r/godtiersuperpowers/top/.json?sort=top&t=all&after=t3_huhvmo\n",
      "Sleep Time: 8 seconds, Loop 10/40 completed\n",
      "https://www.reddit.com/r/godtiersuperpowers/top/.json?sort=top&t=all&after=t3_huyd94\n",
      "Sleep Time: 18 seconds, Loop 11/40 completed\n",
      "https://www.reddit.com/r/godtiersuperpowers/top/.json?sort=top&t=all&after=t3_f950ev\n",
      "Sleep Time: 5 seconds, Loop 12/40 completed\n",
      "https://www.reddit.com/r/godtiersuperpowers/top/.json?sort=top&t=all&after=t3_j02ji5\n",
      "Sleep Time: 12 seconds, Loop 13/40 completed\n",
      "https://www.reddit.com/r/godtiersuperpowers/top/.json?sort=top&t=all&after=t3_flxamt\n",
      "Sleep Time: 15 seconds, Loop 14/40 completed\n",
      "https://www.reddit.com/r/godtiersuperpowers/top/.json?sort=top&t=all&after=t3_emabn0\n",
      "Sleep Time: 6 seconds, Loop 15/40 completed\n",
      "https://www.reddit.com/r/godtiersuperpowers/top/.json?sort=top&t=all&after=t3_cow2rq\n",
      "Sleep Time: 15 seconds, Loop 16/40 completed\n",
      "https://www.reddit.com/r/godtiersuperpowers/top/.json?sort=top&t=all&after=t3_htvsj3\n",
      "Sleep Time: 19 seconds, Loop 17/40 completed\n",
      "https://www.reddit.com/r/godtiersuperpowers/top/.json?sort=top&t=all&after=t3_iuk5e7\n",
      "Sleep Time: 8 seconds, Loop 18/40 completed\n",
      "https://www.reddit.com/r/godtiersuperpowers/top/.json?sort=top&t=all&after=t3_fir1li\n",
      "Sleep Time: 16 seconds, Loop 19/40 completed\n",
      "https://www.reddit.com/r/godtiersuperpowers/top/.json?sort=top&t=all&after=t3_ee9xft\n",
      "Sleep Time: 2 seconds, Loop 20/40 completed\n",
      "https://www.reddit.com/r/godtiersuperpowers/top/.json?sort=top&t=all&after=t3_ccwx9x\n",
      "Sleep Time: 2 seconds, Loop 21/40 completed\n",
      "https://www.reddit.com/r/godtiersuperpowers/top/.json?sort=top&t=all&after=t3_iyzeuy\n",
      "Sleep Time: 12 seconds, Loop 22/40 completed\n",
      "https://www.reddit.com/r/godtiersuperpowers/top/.json?sort=top&t=all&after=t3_g357l8\n",
      "Sleep Time: 14 seconds, Loop 23/40 completed\n",
      "https://www.reddit.com/r/godtiersuperpowers/top/.json?sort=top&t=all&after=t3_hhmsic\n",
      "Sleep Time: 17 seconds, Loop 24/40 completed\n",
      "https://www.reddit.com/r/godtiersuperpowers/top/.json?sort=top&t=all&after=t3_hjzhms\n",
      "Sleep Time: 20 seconds, Loop 25/40 completed\n",
      "https://www.reddit.com/r/godtiersuperpowers/top/.json?sort=top&t=all&after=t3_ij3c1q\n",
      "Sleep Time: 4 seconds, Loop 26/40 completed\n",
      "https://www.reddit.com/r/godtiersuperpowers/top/.json?sort=top&t=all&after=t3_ga4ttv\n",
      "Sleep Time: 16 seconds, Loop 27/40 completed\n",
      "https://www.reddit.com/r/godtiersuperpowers/top/.json?sort=top&t=all&after=t3_gugfps\n",
      "Sleep Time: 9 seconds, Loop 28/40 completed\n",
      "https://www.reddit.com/r/godtiersuperpowers/top/.json?sort=top&t=all&after=t3_fziu8g\n",
      "Sleep Time: 3 seconds, Loop 29/40 completed\n",
      "https://www.reddit.com/r/godtiersuperpowers/top/.json?sort=top&t=all&after=t3_hcw045\n",
      "Sleep Time: 18 seconds, Loop 30/40 completed\n",
      "https://www.reddit.com/r/godtiersuperpowers/top/.json?sort=top&t=all&after=t3_gzdt9x\n",
      "Sleep Time: 12 seconds, Loop 31/40 completed\n",
      "https://www.reddit.com/r/godtiersuperpowers/top/.json?sort=top&t=all&after=t3_c252l0\n",
      "Sleep Time: 13 seconds, Loop 32/40 completed\n",
      "https://www.reddit.com/r/godtiersuperpowers/top/.json?sort=top&t=all&after=t3_byknfp\n",
      "Sleep Time: 16 seconds, Loop 33/40 completed\n",
      "https://www.reddit.com/r/godtiersuperpowers/top/.json?sort=top&t=all&after=t3_bsg784\n",
      "Sleep Time: 3 seconds, Loop 34/40 completed\n",
      "https://www.reddit.com/r/godtiersuperpowers/top/.json?sort=top&t=all&after=t3_cdgiuh\n",
      "Sleep Time: 12 seconds, Loop 35/40 completed\n",
      "https://www.reddit.com/r/godtiersuperpowers/top/.json?sort=top&t=all&after=t3_bq26vq\n",
      "Sleep Time: 14 seconds, Loop 36/40 completed\n",
      "https://www.reddit.com/r/godtiersuperpowers/top/.json?sort=top&t=all&after=t3_bspnar\n",
      "Sleep Time: 15 seconds, Loop 37/40 completed\n",
      "https://www.reddit.com/r/godtiersuperpowers/top/.json?sort=top&t=all&after=t3_cyib42\n",
      "Sleep Time: 18 seconds, Loop 38/40 completed\n",
      "https://www.reddit.com/r/godtiersuperpowers/top/.json?sort=top&t=all&after=t3_ed1sz2\n",
      "Sleep Time: 7 seconds, Loop 39/40 completed\n",
      "https://www.reddit.com/r/godtiersuperpowers/top/.json?sort=top&t=all&after=t3_ciyilp\n",
      "Sleep Time: 15 seconds, Loop 40/40 completed\n"
     ]
    }
   ],
   "source": [
    "# to get 1000 post exactly\n",
    "god_tier_posts = scrap_reddit(\"godtiersuperpowers\" , 40)"
   ]
  },
  {
   "cell_type": "code",
   "execution_count": 11,
   "metadata": {},
   "outputs": [
    {
     "name": "stdout",
     "output_type": "stream",
     "text": [
      "https://www.reddit.com/r/shittysuperpowers/top/.json?sort=top&t=all\n",
      "Sleep Time: 3 seconds, Loop 1/41 completed\n",
      "https://www.reddit.com/r/shittysuperpowers/top/.json?sort=top&t=all&after=t3_an2s53\n",
      "Sleep Time: 5 seconds, Loop 2/41 completed\n",
      "https://www.reddit.com/r/shittysuperpowers/top/.json?sort=top&t=all&after=t3_ah1u4w\n",
      "Sleep Time: 4 seconds, Loop 3/41 completed\n",
      "https://www.reddit.com/r/shittysuperpowers/top/.json?sort=top&t=all&after=t3_dr8sm1\n",
      "Sleep Time: 15 seconds, Loop 4/41 completed\n",
      "https://www.reddit.com/r/shittysuperpowers/top/.json?sort=top&t=all&after=t3_dnnv0m\n",
      "Sleep Time: 19 seconds, Loop 5/41 completed\n",
      "https://www.reddit.com/r/shittysuperpowers/top/.json?sort=top&t=all&after=t3_fpxstu\n",
      "Sleep Time: 11 seconds, Loop 6/41 completed\n",
      "https://www.reddit.com/r/shittysuperpowers/top/.json?sort=top&t=all&after=t3_fccafb\n",
      "Sleep Time: 13 seconds, Loop 7/41 completed\n",
      "https://www.reddit.com/r/shittysuperpowers/top/.json?sort=top&t=all&after=t3_crkdrk\n",
      "Sleep Time: 17 seconds, Loop 8/41 completed\n",
      "https://www.reddit.com/r/shittysuperpowers/top/.json?sort=top&t=all&after=t3_f5iunr\n",
      "Sleep Time: 15 seconds, Loop 9/41 completed\n",
      "https://www.reddit.com/r/shittysuperpowers/top/.json?sort=top&t=all&after=t3_dqfrzf\n",
      "Sleep Time: 14 seconds, Loop 10/41 completed\n",
      "https://www.reddit.com/r/shittysuperpowers/top/.json?sort=top&t=all&after=t3_e879on\n",
      "Sleep Time: 2 seconds, Loop 11/41 completed\n",
      "https://www.reddit.com/r/shittysuperpowers/top/.json?sort=top&t=all&after=t3_dnd5rz\n",
      "Sleep Time: 8 seconds, Loop 12/41 completed\n",
      "https://www.reddit.com/r/shittysuperpowers/top/.json?sort=top&t=all&after=t3_elrgnl\n",
      "Sleep Time: 3 seconds, Loop 13/41 completed\n",
      "https://www.reddit.com/r/shittysuperpowers/top/.json?sort=top&t=all&after=t3_cla0ct\n",
      "Sleep Time: 7 seconds, Loop 14/41 completed\n",
      "https://www.reddit.com/r/shittysuperpowers/top/.json?sort=top&t=all&after=t3_da4i0p\n",
      "Sleep Time: 11 seconds, Loop 15/41 completed\n",
      "https://www.reddit.com/r/shittysuperpowers/top/.json?sort=top&t=all&after=t3_co2e73\n",
      "Sleep Time: 8 seconds, Loop 16/41 completed\n",
      "https://www.reddit.com/r/shittysuperpowers/top/.json?sort=top&t=all&after=t3_c7c7wf\n",
      "Sleep Time: 5 seconds, Loop 17/41 completed\n",
      "https://www.reddit.com/r/shittysuperpowers/top/.json?sort=top&t=all&after=t3_bu4gy0\n",
      "Sleep Time: 9 seconds, Loop 18/41 completed\n",
      "https://www.reddit.com/r/shittysuperpowers/top/.json?sort=top&t=all&after=t3_euo5on\n",
      "Sleep Time: 10 seconds, Loop 19/41 completed\n",
      "https://www.reddit.com/r/shittysuperpowers/top/.json?sort=top&t=all&after=t3_in91bh\n",
      "Sleep Time: 14 seconds, Loop 20/41 completed\n",
      "https://www.reddit.com/r/shittysuperpowers/top/.json?sort=top&t=all&after=t3_eix1lf\n",
      "Sleep Time: 19 seconds, Loop 21/41 completed\n",
      "https://www.reddit.com/r/shittysuperpowers/top/.json?sort=top&t=all&after=t3_e7vq6n\n",
      "Sleep Time: 3 seconds, Loop 22/41 completed\n",
      "https://www.reddit.com/r/shittysuperpowers/top/.json?sort=top&t=all&after=t3_chi0hq\n",
      "Sleep Time: 3 seconds, Loop 23/41 completed\n",
      "https://www.reddit.com/r/shittysuperpowers/top/.json?sort=top&t=all&after=t3_a5snq2\n",
      "Sleep Time: 20 seconds, Loop 24/41 completed\n",
      "https://www.reddit.com/r/shittysuperpowers/top/.json?sort=top&t=all&after=t3_boh8d2\n",
      "Sleep Time: 13 seconds, Loop 25/41 completed\n",
      "https://www.reddit.com/r/shittysuperpowers/top/.json?sort=top&t=all&after=t3_frjy5o\n",
      "Sleep Time: 13 seconds, Loop 26/41 completed\n",
      "https://www.reddit.com/r/shittysuperpowers/top/.json?sort=top&t=all&after=t3_e7owd3\n",
      "Sleep Time: 2 seconds, Loop 27/41 completed\n",
      "https://www.reddit.com/r/shittysuperpowers/top/.json?sort=top&t=all&after=t3_f5sq5y\n",
      "Sleep Time: 19 seconds, Loop 28/41 completed\n",
      "https://www.reddit.com/r/shittysuperpowers/top/.json?sort=top&t=all&after=t3_cqkg8r\n",
      "Sleep Time: 8 seconds, Loop 29/41 completed\n",
      "https://www.reddit.com/r/shittysuperpowers/top/.json?sort=top&t=all&after=t3_acfm3d\n",
      "Sleep Time: 15 seconds, Loop 30/41 completed\n",
      "https://www.reddit.com/r/shittysuperpowers/top/.json?sort=top&t=all&after=t3_ej7e69\n",
      "Sleep Time: 10 seconds, Loop 31/41 completed\n",
      "https://www.reddit.com/r/shittysuperpowers/top/.json?sort=top&t=all&after=t3_ad5312\n",
      "Sleep Time: 12 seconds, Loop 32/41 completed\n",
      "https://www.reddit.com/r/shittysuperpowers/top/.json?sort=top&t=all&after=t3_eikibr\n",
      "Sleep Time: 19 seconds, Loop 33/41 completed\n",
      "https://www.reddit.com/r/shittysuperpowers/top/.json?sort=top&t=all&after=t3_atg0ii\n",
      "Sleep Time: 15 seconds, Loop 34/41 completed\n",
      "https://www.reddit.com/r/shittysuperpowers/top/.json?sort=top&t=all&after=t3_ahamau\n",
      "Sleep Time: 8 seconds, Loop 35/41 completed\n",
      "https://www.reddit.com/r/shittysuperpowers/top/.json?sort=top&t=all&after=t3_avf9lr\n",
      "Sleep Time: 4 seconds, Loop 36/41 completed\n",
      "https://www.reddit.com/r/shittysuperpowers/top/.json?sort=top&t=all&after=t3_digp14\n",
      "Sleep Time: 11 seconds, Loop 37/41 completed\n",
      "https://www.reddit.com/r/shittysuperpowers/top/.json?sort=top&t=all&after=t3_cet8tl\n",
      "Sleep Time: 10 seconds, Loop 38/41 completed\n",
      "https://www.reddit.com/r/shittysuperpowers/top/.json?sort=top&t=all&after=t3_b0w1oo\n",
      "Sleep Time: 18 seconds, Loop 39/41 completed\n",
      "https://www.reddit.com/r/shittysuperpowers/top/.json?sort=top&t=all\n",
      "Sleep Time: 11 seconds, Loop 40/41 completed\n",
      "https://www.reddit.com/r/shittysuperpowers/top/.json?sort=top&t=all&after=t3_an2s53\n",
      "Sleep Time: 3 seconds, Loop 41/41 completed\n"
     ]
    }
   ],
   "source": [
    "# to get 1025 post because 40 loops did not give me 1000 posts\n",
    "shitty_posts = scrap_reddit(\"shittysuperpowers\", 41)"
   ]
  },
  {
   "cell_type": "code",
   "execution_count": 12,
   "metadata": {},
   "outputs": [
    {
     "name": "stdout",
     "output_type": "stream",
     "text": [
      "Total God Tier Posts: 996\n",
      "Total Shitty Posts: 1019\n"
     ]
    }
   ],
   "source": [
    "# Check the number of post per subreddit, should have around 1000.\n",
    "\n",
    "print(f\"Total God Tier Posts: {len(god_tier_posts)}\")\n",
    "print(f\"Total Shitty Posts: {len(shitty_posts)}\")"
   ]
  },
  {
   "cell_type": "markdown",
   "metadata": {},
   "source": [
    "### Examine the Scrape\n",
    "\n",
    "Here, I check the shape of the dataframe and for duplicates."
   ]
  },
  {
   "cell_type": "code",
   "execution_count": 13,
   "metadata": {
    "scrolled": true
   },
   "outputs": [
    {
     "data": {
      "text/plain": [
       "(996, 4)"
      ]
     },
     "execution_count": 13,
     "metadata": {},
     "output_type": "execute_result"
    }
   ],
   "source": [
    "# create dataframe and check shape\n",
    "god_tier_df = create_df(god_tier_posts)\n",
    "god_tier_df.shape"
   ]
  },
  {
   "cell_type": "code",
   "execution_count": 14,
   "metadata": {},
   "outputs": [
    {
     "data": {
      "text/plain": [
       "(996, 4)"
      ]
     },
     "execution_count": 14,
     "metadata": {},
     "output_type": "execute_result"
    }
   ],
   "source": [
    "# check duplicates\n",
    "god_tier_df.drop_duplicates().shape\n",
    "\n",
    "# it has no duplicates"
   ]
  },
  {
   "cell_type": "code",
   "execution_count": 15,
   "metadata": {},
   "outputs": [
    {
     "data": {
      "text/plain": [
       "(1019, 4)"
      ]
     },
     "execution_count": 15,
     "metadata": {},
     "output_type": "execute_result"
    }
   ],
   "source": [
    "# create dataframe and check shape\n",
    "\n",
    "shitty_df = create_df(shitty_posts)\n",
    "shitty_df.shape"
   ]
  },
  {
   "cell_type": "code",
   "execution_count": 16,
   "metadata": {
    "scrolled": true
   },
   "outputs": [
    {
     "data": {
      "text/plain": [
       "(969, 4)"
      ]
     },
     "execution_count": 16,
     "metadata": {},
     "output_type": "execute_result"
    }
   ],
   "source": [
    "# check duplicates\n",
    "\n",
    "shitty_df.drop_duplicates().shape\n",
    "\n",
    "# quite a bit of duplicates"
   ]
  },
  {
   "cell_type": "markdown",
   "metadata": {},
   "source": [
    "For both subreddit threads, the number of post is closed to a thousand. Even though there are a lot of duplicates for `r/shittysuperpowers`, there is still a high number of unique values for each subreddit.\n",
    "\n",
    "The two dataframes will be combined and the duplicates will be dropped."
   ]
  },
  {
   "cell_type": "markdown",
   "metadata": {},
   "source": [
    "### Delete Duplicates and Save as CSV"
   ]
  },
  {
   "cell_type": "code",
   "execution_count": 17,
   "metadata": {},
   "outputs": [
    {
     "data": {
      "text/plain": [
       "(2015, 4)"
      ]
     },
     "execution_count": 17,
     "metadata": {},
     "output_type": "execute_result"
    }
   ],
   "source": [
    "# create data frame, check dataframe shape to make sure it is correct\n",
    "reddit_df = create_df(god_tier_posts, shitty_posts)\n",
    "reddit_df.shape"
   ]
  },
  {
   "cell_type": "code",
   "execution_count": 18,
   "metadata": {},
   "outputs": [
    {
     "data": {
      "text/html": [
       "<div>\n",
       "<style scoped>\n",
       "    .dataframe tbody tr th:only-of-type {\n",
       "        vertical-align: middle;\n",
       "    }\n",
       "\n",
       "    .dataframe tbody tr th {\n",
       "        vertical-align: top;\n",
       "    }\n",
       "\n",
       "    .dataframe thead th {\n",
       "        text-align: right;\n",
       "    }\n",
       "</style>\n",
       "<table border=\"1\" class=\"dataframe\">\n",
       "  <thead>\n",
       "    <tr style=\"text-align: right;\">\n",
       "      <th></th>\n",
       "      <th>name</th>\n",
       "      <th>selftext</th>\n",
       "      <th>title</th>\n",
       "      <th>subreddit</th>\n",
       "    </tr>\n",
       "  </thead>\n",
       "  <tbody>\n",
       "    <tr>\n",
       "      <th>0</th>\n",
       "      <td>t3_dg9js8</td>\n",
       "      <td></td>\n",
       "      <td>You have the power to successfully say “Fuck t...</td>\n",
       "      <td>godtiersuperpowers</td>\n",
       "    </tr>\n",
       "    <tr>\n",
       "      <th>1</th>\n",
       "      <td>t3_clcajt</td>\n",
       "      <td></td>\n",
       "      <td>Instant argument win.</td>\n",
       "      <td>godtiersuperpowers</td>\n",
       "    </tr>\n",
       "    <tr>\n",
       "      <th>2</th>\n",
       "      <td>t3_dokgtk</td>\n",
       "      <td></td>\n",
       "      <td>Saying \"Fuck it\" just before making a decision...</td>\n",
       "      <td>godtiersuperpowers</td>\n",
       "    </tr>\n",
       "    <tr>\n",
       "      <th>3</th>\n",
       "      <td>t3_cn2eyf</td>\n",
       "      <td></td>\n",
       "      <td>You can toot as much as you please</td>\n",
       "      <td>godtiersuperpowers</td>\n",
       "    </tr>\n",
       "    <tr>\n",
       "      <th>4</th>\n",
       "      <td>t3_ctjwz5</td>\n",
       "      <td></td>\n",
       "      <td>You can reply before someone even asks the que...</td>\n",
       "      <td>godtiersuperpowers</td>\n",
       "    </tr>\n",
       "  </tbody>\n",
       "</table>\n",
       "</div>"
      ],
      "text/plain": [
       "        name selftext                                              title  \\\n",
       "0  t3_dg9js8           You have the power to successfully say “Fuck t...   \n",
       "1  t3_clcajt                                       Instant argument win.   \n",
       "2  t3_dokgtk           Saying \"Fuck it\" just before making a decision...   \n",
       "3  t3_cn2eyf                          You can toot as much as you please   \n",
       "4  t3_ctjwz5           You can reply before someone even asks the que...   \n",
       "\n",
       "            subreddit  \n",
       "0  godtiersuperpowers  \n",
       "1  godtiersuperpowers  \n",
       "2  godtiersuperpowers  \n",
       "3  godtiersuperpowers  \n",
       "4  godtiersuperpowers  "
      ]
     },
     "execution_count": 18,
     "metadata": {},
     "output_type": "execute_result"
    }
   ],
   "source": [
    "# take a look\n",
    "reddit_df.head()"
   ]
  },
  {
   "cell_type": "code",
   "execution_count": 19,
   "metadata": {},
   "outputs": [],
   "source": [
    "# remove duplicates\n",
    "\n",
    "reddit_df.drop_duplicates(inplace=True)"
   ]
  },
  {
   "cell_type": "code",
   "execution_count": 20,
   "metadata": {},
   "outputs": [],
   "source": [
    "# reset index\n",
    "reddit_df.reset_index(drop = True, inplace=True)"
   ]
  },
  {
   "cell_type": "code",
   "execution_count": 21,
   "metadata": {
    "scrolled": true
   },
   "outputs": [
    {
     "data": {
      "text/plain": [
       "(1965, 4)"
      ]
     },
     "execution_count": 21,
     "metadata": {},
     "output_type": "execute_result"
    }
   ],
   "source": [
    "# check size again to make sure it is dropped successfully\n",
    "reddit_df.shape"
   ]
  },
  {
   "cell_type": "code",
   "execution_count": 24,
   "metadata": {},
   "outputs": [],
   "source": [
    "# save it as CSV in data folder\n",
    "\n",
    "reddit_df.to_csv('data/reddit_df.csv',index=False)"
   ]
  },
  {
   "cell_type": "code",
   "execution_count": 25,
   "metadata": {},
   "outputs": [],
   "source": [
    "# last extracted on 28th September 2020, 11.20am"
   ]
  },
  {
   "cell_type": "markdown",
   "metadata": {},
   "source": [
    "Click [here](2%20of%203_Reddit%20Classifier%20(Data%20Cleaning%20and%20EDA).ipynb#2.-Data-Cleaning-and-EDA) to access next notebook!"
   ]
  }
 ],
 "metadata": {
  "kernelspec": {
   "display_name": "Python 3",
   "language": "python",
   "name": "python3"
  },
  "language_info": {
   "codemirror_mode": {
    "name": "ipython",
    "version": 3
   },
   "file_extension": ".py",
   "mimetype": "text/x-python",
   "name": "python",
   "nbconvert_exporter": "python",
   "pygments_lexer": "ipython3",
   "version": "3.7.6"
  }
 },
 "nbformat": 4,
 "nbformat_minor": 4
}
